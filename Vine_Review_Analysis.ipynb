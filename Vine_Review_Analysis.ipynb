{
 "cells": [
  {
   "cell_type": "code",
   "execution_count": 1,
   "id": "248b9cce",
   "metadata": {},
   "outputs": [],
   "source": [
    "import pandas as pd\n",
    "import matplotlib.pyplot as plt"
   ]
  },
  {
   "cell_type": "code",
   "execution_count": 2,
   "id": "994ede9b",
   "metadata": {},
   "outputs": [
    {
     "data": {
      "text/html": [
       "<div>\n",
       "<style scoped>\n",
       "    .dataframe tbody tr th:only-of-type {\n",
       "        vertical-align: middle;\n",
       "    }\n",
       "\n",
       "    .dataframe tbody tr th {\n",
       "        vertical-align: top;\n",
       "    }\n",
       "\n",
       "    .dataframe thead th {\n",
       "        text-align: right;\n",
       "    }\n",
       "</style>\n",
       "<table border=\"1\" class=\"dataframe\">\n",
       "  <thead>\n",
       "    <tr style=\"text-align: right;\">\n",
       "      <th></th>\n",
       "      <th>review_id</th>\n",
       "      <th>star_rating</th>\n",
       "      <th>helpful_votes</th>\n",
       "      <th>total_votes</th>\n",
       "      <th>vine</th>\n",
       "      <th>verified_purchase</th>\n",
       "    </tr>\n",
       "  </thead>\n",
       "  <tbody>\n",
       "    <tr>\n",
       "      <th>0</th>\n",
       "      <td>R3P2HIOQCIN5ZU</td>\n",
       "      <td>1</td>\n",
       "      <td>0</td>\n",
       "      <td>0</td>\n",
       "      <td>N</td>\n",
       "      <td>Y</td>\n",
       "    </tr>\n",
       "    <tr>\n",
       "      <th>1</th>\n",
       "      <td>R12VVR0WH5Q24V</td>\n",
       "      <td>5</td>\n",
       "      <td>0</td>\n",
       "      <td>0</td>\n",
       "      <td>N</td>\n",
       "      <td>Y</td>\n",
       "    </tr>\n",
       "    <tr>\n",
       "      <th>2</th>\n",
       "      <td>RNCCKB6TV5EEF</td>\n",
       "      <td>4</td>\n",
       "      <td>0</td>\n",
       "      <td>0</td>\n",
       "      <td>N</td>\n",
       "      <td>Y</td>\n",
       "    </tr>\n",
       "    <tr>\n",
       "      <th>3</th>\n",
       "      <td>R2NZXYIVCGB13W</td>\n",
       "      <td>5</td>\n",
       "      <td>0</td>\n",
       "      <td>6</td>\n",
       "      <td>N</td>\n",
       "      <td>Y</td>\n",
       "    </tr>\n",
       "    <tr>\n",
       "      <th>4</th>\n",
       "      <td>R2EQ1TG9IT3OEQ</td>\n",
       "      <td>3</td>\n",
       "      <td>0</td>\n",
       "      <td>0</td>\n",
       "      <td>N</td>\n",
       "      <td>Y</td>\n",
       "    </tr>\n",
       "  </tbody>\n",
       "</table>\n",
       "</div>"
      ],
      "text/plain": [
       "        review_id  star_rating  helpful_votes  total_votes vine  \\\n",
       "0  R3P2HIOQCIN5ZU            1              0            0    N   \n",
       "1  R12VVR0WH5Q24V            5              0            0    N   \n",
       "2   RNCCKB6TV5EEF            4              0            0    N   \n",
       "3  R2NZXYIVCGB13W            5              0            6    N   \n",
       "4  R2EQ1TG9IT3OEQ            3              0            0    N   \n",
       "\n",
       "  verified_purchase  \n",
       "0                 Y  \n",
       "1                 Y  \n",
       "2                 Y  \n",
       "3                 Y  \n",
       "4                 Y  "
      ]
     },
     "execution_count": 2,
     "metadata": {},
     "output_type": "execute_result"
    }
   ],
   "source": [
    "vine_df = pd.read_csv('vine_table.csv')\n",
    "vine_df.head()"
   ]
  },
  {
   "cell_type": "code",
   "execution_count": 16,
   "id": "a5e7cba3",
   "metadata": {},
   "outputs": [
    {
     "data": {
      "text/plain": [
       "4366916"
      ]
     },
     "execution_count": 16,
     "metadata": {},
     "output_type": "execute_result"
    }
   ],
   "source": [
    "countreviews = len(vine_df)\n",
    "countreviews"
   ]
  },
  {
   "cell_type": "markdown",
   "id": "2f921674",
   "metadata": {},
   "source": [
    "## Filter data to only show helpful reviews "
   ]
  },
  {
   "cell_type": "code",
   "execution_count": 3,
   "id": "004c5bec",
   "metadata": {},
   "outputs": [
    {
     "data": {
      "text/html": [
       "<div>\n",
       "<style scoped>\n",
       "    .dataframe tbody tr th:only-of-type {\n",
       "        vertical-align: middle;\n",
       "    }\n",
       "\n",
       "    .dataframe tbody tr th {\n",
       "        vertical-align: top;\n",
       "    }\n",
       "\n",
       "    .dataframe thead th {\n",
       "        text-align: right;\n",
       "    }\n",
       "</style>\n",
       "<table border=\"1\" class=\"dataframe\">\n",
       "  <thead>\n",
       "    <tr style=\"text-align: right;\">\n",
       "      <th></th>\n",
       "      <th>review_id</th>\n",
       "      <th>star_rating</th>\n",
       "      <th>helpful_votes</th>\n",
       "      <th>total_votes</th>\n",
       "      <th>vine</th>\n",
       "      <th>verified_purchase</th>\n",
       "    </tr>\n",
       "  </thead>\n",
       "  <tbody>\n",
       "    <tr>\n",
       "      <th>218</th>\n",
       "      <td>R37F42INKX7L9K</td>\n",
       "      <td>5</td>\n",
       "      <td>45</td>\n",
       "      <td>49</td>\n",
       "      <td>N</td>\n",
       "      <td>Y</td>\n",
       "    </tr>\n",
       "    <tr>\n",
       "      <th>557</th>\n",
       "      <td>R2EHKYNEP8WVSR</td>\n",
       "      <td>5</td>\n",
       "      <td>25</td>\n",
       "      <td>25</td>\n",
       "      <td>N</td>\n",
       "      <td>Y</td>\n",
       "    </tr>\n",
       "    <tr>\n",
       "      <th>560</th>\n",
       "      <td>RXOS7BHID0UHL</td>\n",
       "      <td>5</td>\n",
       "      <td>16</td>\n",
       "      <td>27</td>\n",
       "      <td>N</td>\n",
       "      <td>N</td>\n",
       "    </tr>\n",
       "    <tr>\n",
       "      <th>909</th>\n",
       "      <td>R33HHGFPB403GM</td>\n",
       "      <td>5</td>\n",
       "      <td>19</td>\n",
       "      <td>21</td>\n",
       "      <td>N</td>\n",
       "      <td>Y</td>\n",
       "    </tr>\n",
       "    <tr>\n",
       "      <th>1232</th>\n",
       "      <td>RY9O9XNLP464N</td>\n",
       "      <td>2</td>\n",
       "      <td>19</td>\n",
       "      <td>22</td>\n",
       "      <td>N</td>\n",
       "      <td>Y</td>\n",
       "    </tr>\n",
       "  </tbody>\n",
       "</table>\n",
       "</div>"
      ],
      "text/plain": [
       "           review_id  star_rating  helpful_votes  total_votes vine  \\\n",
       "218   R37F42INKX7L9K            5             45           49    N   \n",
       "557   R2EHKYNEP8WVSR            5             25           25    N   \n",
       "560    RXOS7BHID0UHL            5             16           27    N   \n",
       "909   R33HHGFPB403GM            5             19           21    N   \n",
       "1232   RY9O9XNLP464N            2             19           22    N   \n",
       "\n",
       "     verified_purchase  \n",
       "218                  Y  \n",
       "557                  Y  \n",
       "560                  N  \n",
       "909                  Y  \n",
       "1232                 Y  "
      ]
     },
     "execution_count": 3,
     "metadata": {},
     "output_type": "execute_result"
    }
   ],
   "source": [
    "#filter df to show reviews with over 20 total votes\n",
    "twentyvotes_vine_df = vine_df[vine_df['total_votes'] >= 20]\n",
    "twentyvotes_vine_df.head()"
   ]
  },
  {
   "cell_type": "code",
   "execution_count": 4,
   "id": "73b6031b",
   "metadata": {},
   "outputs": [
    {
     "data": {
      "text/html": [
       "<div>\n",
       "<style scoped>\n",
       "    .dataframe tbody tr th:only-of-type {\n",
       "        vertical-align: middle;\n",
       "    }\n",
       "\n",
       "    .dataframe tbody tr th {\n",
       "        vertical-align: top;\n",
       "    }\n",
       "\n",
       "    .dataframe thead th {\n",
       "        text-align: right;\n",
       "    }\n",
       "</style>\n",
       "<table border=\"1\" class=\"dataframe\">\n",
       "  <thead>\n",
       "    <tr style=\"text-align: right;\">\n",
       "      <th></th>\n",
       "      <th>review_id</th>\n",
       "      <th>star_rating</th>\n",
       "      <th>helpful_votes</th>\n",
       "      <th>total_votes</th>\n",
       "      <th>vine</th>\n",
       "      <th>verified_purchase</th>\n",
       "    </tr>\n",
       "  </thead>\n",
       "  <tbody>\n",
       "    <tr>\n",
       "      <th>218</th>\n",
       "      <td>R37F42INKX7L9K</td>\n",
       "      <td>5</td>\n",
       "      <td>45</td>\n",
       "      <td>49</td>\n",
       "      <td>N</td>\n",
       "      <td>Y</td>\n",
       "    </tr>\n",
       "    <tr>\n",
       "      <th>557</th>\n",
       "      <td>R2EHKYNEP8WVSR</td>\n",
       "      <td>5</td>\n",
       "      <td>25</td>\n",
       "      <td>25</td>\n",
       "      <td>N</td>\n",
       "      <td>Y</td>\n",
       "    </tr>\n",
       "    <tr>\n",
       "      <th>560</th>\n",
       "      <td>RXOS7BHID0UHL</td>\n",
       "      <td>5</td>\n",
       "      <td>16</td>\n",
       "      <td>27</td>\n",
       "      <td>N</td>\n",
       "      <td>N</td>\n",
       "    </tr>\n",
       "    <tr>\n",
       "      <th>909</th>\n",
       "      <td>R33HHGFPB403GM</td>\n",
       "      <td>5</td>\n",
       "      <td>19</td>\n",
       "      <td>21</td>\n",
       "      <td>N</td>\n",
       "      <td>Y</td>\n",
       "    </tr>\n",
       "    <tr>\n",
       "      <th>1232</th>\n",
       "      <td>RY9O9XNLP464N</td>\n",
       "      <td>2</td>\n",
       "      <td>19</td>\n",
       "      <td>22</td>\n",
       "      <td>N</td>\n",
       "      <td>Y</td>\n",
       "    </tr>\n",
       "  </tbody>\n",
       "</table>\n",
       "</div>"
      ],
      "text/plain": [
       "           review_id  star_rating  helpful_votes  total_votes vine  \\\n",
       "218   R37F42INKX7L9K            5             45           49    N   \n",
       "557   R2EHKYNEP8WVSR            5             25           25    N   \n",
       "560    RXOS7BHID0UHL            5             16           27    N   \n",
       "909   R33HHGFPB403GM            5             19           21    N   \n",
       "1232   RY9O9XNLP464N            2             19           22    N   \n",
       "\n",
       "     verified_purchase  \n",
       "218                  Y  \n",
       "557                  Y  \n",
       "560                  N  \n",
       "909                  Y  \n",
       "1232                 Y  "
      ]
     },
     "execution_count": 4,
     "metadata": {},
     "output_type": "execute_result"
    }
   ],
   "source": [
    "# filter df to show reviews where over 50% are helpful\n",
    "helpful_vine_df = twentyvotes_vine_df.loc[twentyvotes_vine_df.helpful_votes / twentyvotes_vine_df.total_votes >= 0.5]\n",
    "helpful_vine_df.head()"
   ]
  },
  {
   "cell_type": "markdown",
   "id": "4629f3e1",
   "metadata": {},
   "source": [
    "### Vine Paid Reviews -  5-Star and Average Ratings"
   ]
  },
  {
   "cell_type": "code",
   "execution_count": 6,
   "id": "e4c401f3",
   "metadata": {},
   "outputs": [
    {
     "data": {
      "text/plain": [
       "22"
      ]
     },
     "execution_count": 6,
     "metadata": {},
     "output_type": "execute_result"
    }
   ],
   "source": [
    "# filter to only show total reviews that were paid by vine program\n",
    "vine_reviews = helpful_vine_df[helpful_vine_df['vine'] == 'Y']\n",
    "# vine_reviews.head()\n",
    "\n",
    "count_vine = len(vine_reviews)\n",
    "count_vine"
   ]
  },
  {
   "cell_type": "code",
   "execution_count": 7,
   "id": "06a16856",
   "metadata": {},
   "outputs": [
    {
     "data": {
      "text/plain": [
       "13"
      ]
     },
     "execution_count": 7,
     "metadata": {},
     "output_type": "execute_result"
    }
   ],
   "source": [
    "# total 5 star paid vine reviews \n",
    "five_rating_vine = len(vine_reviews[vine_reviews['star_rating']==5])\n",
    "five_rating_vine"
   ]
  },
  {
   "cell_type": "code",
   "execution_count": 8,
   "id": "33d7fe45",
   "metadata": {},
   "outputs": [
    {
     "data": {
      "text/plain": [
       "59.09090909090909"
      ]
     },
     "execution_count": 8,
     "metadata": {},
     "output_type": "execute_result"
    }
   ],
   "source": [
    "# percentage of VINE 5 star reviews / total helpful reviews\n",
    "five_rating_vine / count_vine * 100"
   ]
  },
  {
   "cell_type": "code",
   "execution_count": 9,
   "id": "0076d9ae",
   "metadata": {},
   "outputs": [
    {
     "data": {
      "text/plain": [
       "4.36"
      ]
     },
     "execution_count": 9,
     "metadata": {},
     "output_type": "execute_result"
    }
   ],
   "source": [
    "# average rating of vine reviews \n",
    "round(vine_reviews['star_rating'].mean(),2)"
   ]
  },
  {
   "cell_type": "code",
   "execution_count": 17,
   "id": "2fd63ac7",
   "metadata": {},
   "outputs": [
    {
     "data": {
      "text/plain": [
       "27.27272727272727"
      ]
     },
     "execution_count": 17,
     "metadata": {},
     "output_type": "execute_result"
    }
   ],
   "source": [
    "# total 4 star paid vine reviews \n",
    "four_rating_vine = len(vine_reviews[vine_reviews['star_rating']==4])\n",
    "four_rating_vine / count_vine * 100"
   ]
  },
  {
   "cell_type": "code",
   "execution_count": 18,
   "id": "159e4c53",
   "metadata": {},
   "outputs": [
    {
     "data": {
      "text/plain": [
       "0.0"
      ]
     },
     "execution_count": 18,
     "metadata": {},
     "output_type": "execute_result"
    }
   ],
   "source": [
    "# total 1 star paid vine reviews \n",
    "one_rating_vine = len(vine_reviews[vine_reviews['star_rating']==1])\n",
    "one_rating_vine / count_vine * 100"
   ]
  },
  {
   "cell_type": "markdown",
   "id": "334c6c28",
   "metadata": {},
   "source": [
    "### Unpaid Reviews (non-vine) -  5-Star and Average Ratings"
   ]
  },
  {
   "cell_type": "code",
   "execution_count": 11,
   "id": "25f1d351",
   "metadata": {},
   "outputs": [
    {
     "data": {
      "text/plain": [
       "26987"
      ]
     },
     "execution_count": 11,
     "metadata": {},
     "output_type": "execute_result"
    }
   ],
   "source": [
    "# filter to only show total reviews that were NOT paid by vine program\n",
    "nonvine_reviews = helpful_vine_df[helpful_vine_df['vine'] == 'N']\n",
    "# vine_reviews.head()\n",
    "\n",
    "count_nonvine = len(nonvine_reviews)\n",
    "count_nonvine"
   ]
  },
  {
   "cell_type": "code",
   "execution_count": 12,
   "id": "ca14c73a",
   "metadata": {},
   "outputs": [
    {
     "data": {
      "text/plain": [
       "14475"
      ]
     },
     "execution_count": 12,
     "metadata": {},
     "output_type": "execute_result"
    }
   ],
   "source": [
    "# total 5 star nonpaid vine reviews \n",
    "five_rating_nonvine = len(nonvine_reviews[nonvine_reviews['star_rating']==5])\n",
    "five_rating_nonvine"
   ]
  },
  {
   "cell_type": "code",
   "execution_count": 13,
   "id": "3a1fac9c",
   "metadata": {},
   "outputs": [
    {
     "data": {
      "text/plain": [
       "53.63693630266425"
      ]
     },
     "execution_count": 13,
     "metadata": {},
     "output_type": "execute_result"
    }
   ],
   "source": [
    "# percentage of NONvine 5 star reviews / total helpful reviews\n",
    "five_rating_nonvine / count_nonvine * 100"
   ]
  },
  {
   "cell_type": "code",
   "execution_count": 14,
   "id": "452ce5d8",
   "metadata": {},
   "outputs": [
    {
     "data": {
      "text/plain": [
       "3.86"
      ]
     },
     "execution_count": 14,
     "metadata": {},
     "output_type": "execute_result"
    }
   ],
   "source": [
    "# average rating of NONvine reviews \n",
    "round(nonvine_reviews['star_rating'].mean(),2)"
   ]
  },
  {
   "cell_type": "code",
   "execution_count": 19,
   "id": "76cd4e25",
   "metadata": {},
   "outputs": [
    {
     "data": {
      "text/plain": [
       "14.996109237781155"
      ]
     },
     "execution_count": 19,
     "metadata": {},
     "output_type": "execute_result"
    }
   ],
   "source": [
    "# total 4 star paid NONvine reviews \n",
    "four_rating_nonvine = len(nonvine_reviews[nonvine_reviews['star_rating']==4])\n",
    "four_rating_nonvine / count_nonvine * 100"
   ]
  },
  {
   "cell_type": "code",
   "execution_count": 20,
   "id": "138178af",
   "metadata": {},
   "outputs": [
    {
     "data": {
      "text/plain": [
       "14.540334235002039"
      ]
     },
     "execution_count": 20,
     "metadata": {},
     "output_type": "execute_result"
    }
   ],
   "source": [
    "# total 1 star paid NONvine reviews \n",
    "one_rating_nonvine = len(nonvine_reviews[nonvine_reviews['star_rating']==1])\n",
    "one_rating_nonvine / count_nonvine * 100"
   ]
  },
  {
   "cell_type": "code",
   "execution_count": null,
   "id": "842a4959",
   "metadata": {},
   "outputs": [],
   "source": []
  }
 ],
 "metadata": {
  "kernelspec": {
   "display_name": "Python 3 (ipykernel)",
   "language": "python",
   "name": "python3"
  },
  "language_info": {
   "codemirror_mode": {
    "name": "ipython",
    "version": 3
   },
   "file_extension": ".py",
   "mimetype": "text/x-python",
   "name": "python",
   "nbconvert_exporter": "python",
   "pygments_lexer": "ipython3",
   "version": "3.9.7"
  }
 },
 "nbformat": 4,
 "nbformat_minor": 5
}
